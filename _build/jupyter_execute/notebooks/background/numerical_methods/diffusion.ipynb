{
 "cells": [
  {
   "cell_type": "code",
   "execution_count": 1,
   "metadata": {},
   "outputs": [],
   "source": [
    "import numpy as np\n",
    "import matplotlib.pyplot as plt"
   ]
  },
  {
   "cell_type": "markdown",
   "metadata": {},
   "source": [
    "# Diffusion\n",
    "\n",
    "This file is to record the numerical method that could be applied to calculate the the diffusion."
   ]
  },
  {
   "cell_type": "code",
   "execution_count": 2,
   "metadata": {},
   "outputs": [],
   "source": [
    "Lz = 1\n",
    "nz = 64\n",
    "z = np.linspace(0, 1,  nz+1)\n",
    "zc = (z[:-1] + z[1:])/2\n",
    "theta = 0.5 * (2*zc - zc**2)\n",
    "dTdz_f = lambda z: 1 - z"
   ]
  },
  {
   "cell_type": "code",
   "execution_count": 3,
   "metadata": {},
   "outputs": [
    {
     "data": {
      "text/plain": [
       "[<matplotlib.lines.Line2D at 0x7fc0bc614a00>]"
      ]
     },
     "execution_count": 3,
     "metadata": {},
     "output_type": "execute_result"
    },
    {
     "data": {
      "image/png": "[encoded data removed]",
      "text/plain": [
       "<Figure size 640x480 with 1 Axes>"
      ]
     },
     "metadata": {},
     "output_type": "display_data"
    }
   ],
   "source": [
    "plt.plot(zc, theta)"
   ]
  },
  {
   "cell_type": "code",
   "execution_count": 4,
   "metadata": {},
   "outputs": [
    {
     "data": {
      "text/plain": [
       "array([0.984375 , 0.9765625, 0.9609375, 0.9453125, 0.9296875, 0.9140625,\n",
       "       0.8984375, 0.8828125, 0.8671875, 0.8515625, 0.8359375, 0.8203125,\n",
       "       0.8046875, 0.7890625, 0.7734375, 0.7578125, 0.7421875, 0.7265625,\n",
       "       0.7109375, 0.6953125, 0.6796875, 0.6640625, 0.6484375, 0.6328125,\n",
       "       0.6171875, 0.6015625, 0.5859375, 0.5703125, 0.5546875, 0.5390625,\n",
       "       0.5234375, 0.5078125, 0.4921875, 0.4765625, 0.4609375, 0.4453125,\n",
       "       0.4296875, 0.4140625, 0.3984375, 0.3828125, 0.3671875, 0.3515625,\n",
       "       0.3359375, 0.3203125, 0.3046875, 0.2890625, 0.2734375, 0.2578125,\n",
       "       0.2421875, 0.2265625, 0.2109375, 0.1953125, 0.1796875, 0.1640625,\n",
       "       0.1484375, 0.1328125, 0.1171875, 0.1015625, 0.0859375, 0.0703125,\n",
       "       0.0546875, 0.0390625, 0.0234375, 0.015625 ])"
      ]
     },
     "execution_count": 4,
     "metadata": {},
     "output_type": "execute_result"
    }
   ],
   "source": [
    "np.gradient(theta, zc)"
   ]
  },
  {
   "cell_type": "markdown",
   "metadata": {},
   "source": [
    "dtdz(0) = (T(0.5)- T(-0.5))/1"
   ]
  },
  {
   "cell_type": "code",
   "execution_count": 5,
   "metadata": {},
   "outputs": [
    {
     "name": "stdout",
     "output_type": "stream",
     "text": [
      "0.99609375\n"
     ]
    },
    {
     "data": {
      "text/plain": [
       "array([0.99609375, 0.9921875 , 0.9765625 , 0.9609375 , 0.9453125 ,\n",
       "       0.9296875 , 0.9140625 , 0.8984375 , 0.8828125 , 0.8671875 ,\n",
       "       0.8515625 , 0.8359375 , 0.8203125 , 0.8046875 , 0.7890625 ,\n",
       "       0.7734375 , 0.7578125 , 0.7421875 , 0.7265625 , 0.7109375 ,\n",
       "       0.6953125 , 0.6796875 , 0.6640625 , 0.6484375 , 0.6328125 ,\n",
       "       0.6171875 , 0.6015625 , 0.5859375 , 0.5703125 , 0.5546875 ,\n",
       "       0.5390625 , 0.5234375 , 0.5078125 , 0.4921875 , 0.4765625 ,\n",
       "       0.4609375 , 0.4453125 , 0.4296875 , 0.4140625 , 0.3984375 ,\n",
       "       0.3828125 , 0.3671875 , 0.3515625 , 0.3359375 , 0.3203125 ,\n",
       "       0.3046875 , 0.2890625 , 0.2734375 , 0.2578125 , 0.2421875 ,\n",
       "       0.2265625 , 0.2109375 , 0.1953125 , 0.1796875 , 0.1640625 ,\n",
       "       0.1484375 , 0.1328125 , 0.1171875 , 0.1015625 , 0.0859375 ,\n",
       "       0.0703125 , 0.0546875 , 0.0390625 , 0.0234375 , 0.015625  ])"
      ]
     },
     "execution_count": 5,
     "metadata": {},
     "output_type": "execute_result"
    }
   ],
   "source": [
    "theta0 = np.insert(theta, 0, 0)\n",
    "zc0 = np.insert(zc, 0, 0)\n",
    "print(theta[0]/zc[0])\n",
    "np.gradient(theta0, zc0)"
   ]
  },
  {
   "cell_type": "code",
   "execution_count": 6,
   "metadata": {},
   "outputs": [
    {
     "data": {
      "text/plain": [
       "array([1.       , 0.9921875, 0.9765625, 0.9609375, 0.9453125, 0.9296875,\n",
       "       0.9140625, 0.8984375, 0.8828125, 0.8671875, 0.8515625, 0.8359375,\n",
       "       0.8203125, 0.8046875, 0.7890625, 0.7734375, 0.7578125, 0.7421875,\n",
       "       0.7265625, 0.7109375, 0.6953125, 0.6796875, 0.6640625, 0.6484375,\n",
       "       0.6328125, 0.6171875, 0.6015625, 0.5859375, 0.5703125, 0.5546875,\n",
       "       0.5390625, 0.5234375, 0.5078125, 0.4921875, 0.4765625, 0.4609375,\n",
       "       0.4453125, 0.4296875, 0.4140625, 0.3984375, 0.3828125, 0.3671875,\n",
       "       0.3515625, 0.3359375, 0.3203125, 0.3046875, 0.2890625, 0.2734375,\n",
       "       0.2578125, 0.2421875, 0.2265625, 0.2109375, 0.1953125, 0.1796875,\n",
       "       0.1640625, 0.1484375, 0.1328125, 0.1171875, 0.1015625, 0.0859375,\n",
       "       0.0703125, 0.0546875, 0.0390625, 0.0234375, 0.0078125])"
      ]
     },
     "execution_count": 6,
     "metadata": {},
     "output_type": "execute_result"
    }
   ],
   "source": [
    "np.gradient(theta0, zc0, edge_order=2)"
   ]
  },
  {
   "cell_type": "markdown",
   "metadata": {},
   "source": [
    "Check the document of numpy.gradient and find out the method of inhomogeneous high order finite difference method could be find in this [article](https://www.ams.org/journals/mcom/1988-51-184/S0025-5718-1988-0935077-0/S0025-5718-1988-0935077-0.pdf) {cite}`fornbergGenerationFiniteDifference`."
   ]
  },
  {
   "cell_type": "markdown",
   "metadata": {},
   "source": [
    "Given data $f_i$ at $x$-coordinates $\\alpha_0, \\alpha_1, \\dots, \\alpha_N$, we want to calculate the highest M-th order derivative of given data array. The problem is to find all the weights such that the approximations\n",
    "$$\n",
    "\\left.\\frac{\\mathrm{d}^m f}{\\mathrm{d}x^m}\\right|_{x=x_0} \\approx \\sum_{\\nu=0}^n \\delta_{n, \\nu}^m f(\\alpha_\\nu), m = 0, 1, \\dots, M; n=m, m+1, \\dots, N,\n",
    "$$\n",
    "become of optimal formal order of accuracy (in general of order $n-m+1$, although it can be higher in special cases){cite}`fornbergGenerationFiniteDifference`.\n"
   ]
  },
  {
   "cell_type": "code",
   "execution_count": 7,
   "metadata": {},
   "outputs": [],
   "source": [
    "def params_finite_difference(M:int, x0:float, x:np.array):\n",
    "    \"\"\"_summary_\n",
    "\n",
    "    Args:\n",
    "        M (int): order of derivative.\n",
    "        x0 (float): _description_\n",
    "        x (np.array): _description_\n",
    "    \"\"\"\n",
    "    N = x.shape[0]-1\n",
    "    \n",
    "    params = np.empty(shape=(M+1, N+1, N+1)) # indices (m, n, nu)\n",
    "    params[:] = np.nan\n",
    "    \n",
    "    params[0, 0, 0] = 1\n",
    "    c1 = 1\n",
    "    for n in range(1, N+1):\n",
    "        c2 = 1\n",
    "        for nu in range(n):\n",
    "            c3 = x[n] - x[nu]\n",
    "            c2 = c2 * c3\n",
    "            if n<=M: params[n, n-1, nu] = 0\n",
    "            for m in range(min(n, M)+1):\n",
    "                params[m, n, nu] = ((x[n] - x0) * params[m, n-1, nu] - m * params[m-1, n-1, nu]) / c3\n",
    "        \n",
    "        for m in range(min(n, M)+1):\n",
    "            params[m, n, n] = c1/c2 * (m*params[m-1, n-1, n-1] - (x[n-1] - x0) * params[m, n-1, n-1])\n",
    "        \n",
    "        c1 = c2\n",
    "    \n",
    "    return params\n",
    "    "
   ]
  },
  {
   "cell_type": "code",
   "execution_count": 8,
   "metadata": {},
   "outputs": [
    {
     "data": {
      "text/plain": [
       "array([[-170.66666667],\n",
       "       [ 192.        ],\n",
       "       [ -21.33333333]])"
      ]
     },
     "execution_count": 8,
     "metadata": {},
     "output_type": "execute_result"
    }
   ],
   "source": [
    "dx = zc0[1:] - zc0[:-1]\n",
    "dx1 = dx[0]\n",
    "dx2 = dx[0] + dx[1]\n",
    "# dx1 = 1\n",
    "# dx2 =2\n",
    "\n",
    "a = np.array([\n",
    "    [1, 1, 1],\n",
    "    [0, dx1, dx2],\n",
    "    [0, dx1**2, dx2**2]\n",
    "])\n",
    "b = np.array([\n",
    "    [0],\n",
    "    [1],\n",
    "    [0]\n",
    "])\n",
    "np.linalg.solve(a, b)"
   ]
  },
  {
   "cell_type": "code",
   "execution_count": 9,
   "metadata": {},
   "outputs": [
    {
     "name": "stdout",
     "output_type": "stream",
     "text": [
      "[[[ 1. nan nan nan nan]\n",
      "  [nan nan nan nan nan]\n",
      "  [nan nan nan nan nan]\n",
      "  [nan nan nan nan nan]\n",
      "  [nan nan nan nan nan]]\n",
      "\n",
      " [[ 0. nan nan nan nan]\n",
      "  [-1.  1. nan nan nan]\n",
      "  [nan nan nan nan nan]\n",
      "  [nan nan nan nan nan]\n",
      "  [nan nan nan nan nan]]\n",
      "\n",
      " [[nan nan nan nan nan]\n",
      "  [ 0.  0. nan nan nan]\n",
      "  [-2.  1.  1. nan nan]\n",
      "  [nan nan nan nan nan]\n",
      "  [nan nan nan nan nan]]]\n"
     ]
    }
   ],
   "source": [
    "x = np.array([0, 1, -1, 2, -2])\n",
    "x0 = 0\n",
    "M = 2\n",
    "params = params_finite_difference(M, x0, x)\n",
    "print(params)"
   ]
  },
  {
   "cell_type": "code",
   "execution_count": 10,
   "metadata": {},
   "outputs": [
    {
     "name": "stdout",
     "output_type": "stream",
     "text": [
      "[-1.  -1.  -1.  -1.  -1.  -1.  -1.  -1.  -1.  -1.  -1.  -1.  -1.  -1.\n",
      " -1.  -1.  -1.  -1.  -1.  -1.  -1.  -1.  -1.  -1.  -1.  -1.  -1.  -1.\n",
      " -1.  -1.  -1.  -1.  -1.  -1.  -1.  -1.  -1.  -1.  -1.  -1.  -1.  -1.\n",
      " -1.  -1.  -1.  -1.  -1.  -1.  -1.  -1.  -1.  -1.  -1.  -1.  -1.  -1.\n",
      " -1.  -1.  -1.  -1.  -1.  -1.  -1.5 -0.5]\n"
     ]
    }
   ],
   "source": [
    "theta_ubc = np.insert(theta, -1, theta[-1])\n",
    "zc_ubc = np.insert(zc, -1, zc[-1] + zc[-1]-zc[-2])\n",
    "dTdz_tmp = (theta_ubc[1:] - theta_ubc[:-1])/(zc_ubc[1:] - zc_ubc[:-1])\n",
    "dTdz_w = np.insert(dTdz_tmp, 0, np.gradient(theta0, zc0, edge_order=2)[0])\n",
    "diff = (dTdz_w[1:] - dTdz_w[:-1])/(z[1:] - z[:-1])\n",
    "print(diff)"
   ]
  }
 ],
 "metadata": {
  "kernelspec": {
   "display_name": ".venv",
   "language": "python",
   "name": "python3"
  },
  "language_info": {
   "codemirror_mode": {
    "name": "ipython",
    "version": 3
   },
   "file_extension": ".py",
   "mimetype": "text/x-python",
   "name": "python",
   "nbconvert_exporter": "python",
   "pygments_lexer": "ipython3",
   "version": "3.10.12"
  }
 },
 "nbformat": 4,
 "nbformat_minor": 2
}