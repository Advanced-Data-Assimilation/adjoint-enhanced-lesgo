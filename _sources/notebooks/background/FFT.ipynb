{
 "cells": [
  {
   "cell_type": "code",
   "execution_count": 8,
   "metadata": {},
   "outputs": [],
   "source": [
    "%matplotlib inline\n",
    "import numpy as np\n",
    "import matplotlib.pyplot as plt\n",
    "from scipy.fft import fft, ifft"
   ]
  },
  {
   "attachments": {},
   "cell_type": "markdown",
   "metadata": {},
   "source": [
    "# Fast Fourier Transform \n"
   ]
  },
  {
   "attachments": {},
   "cell_type": "markdown",
   "metadata": {},
   "source": [
    "```{margin} **Question**\n",
    "<span style='color:navy'> Why the indices range from 0 to N-1 instead of 1 to N? </span>\n",
    "\n",
    "Related to error[^dft_ref1].\n",
    "```\n",
    "\n",
    "[^dft_ref1]: [De-aliasing in Fast Fourier Transform.](https://math.jhu.edu/~feilu/notes/DealiasingFFT.pdf)\n"
   ]
  },
  {
   "attachments": {},
   "cell_type": "markdown",
   "metadata": {},
   "source": [
    "## Discrete Fourier Transform (DFT)\n",
    "Given sequential data $\\{X_j\\}_{j=0}^{N-1}$ of length $N$ at time index $j$, we could convert the time-domain discrete sequence into frequency-domain discrete spectrum by **discrete Fourier transform (DFT)**:\n",
    "\n",
    "$$\n",
    "x_k = \\sum_{j=0}^{N-1} X_je^{-2\\pi ikj/N}, \\quad 0\\le k\\le N-1\n",
    "$$(eq:fft_discrete_forward)\n",
    "\n",
    "The vector $X$ can be recovered from $x_k$ by **inverse discrete Fourier transform(IDFT)**,\n",
    "\n",
    "$$\n",
    "X_j = \\frac{1}{N} \\sum_{k=0}^{N-1} x_k e^{2\\pi ikj/N}, \\quad 0 \\le j \\le N-1\n",
    "$$"
   ]
  },
  {
   "attachments": {},
   "cell_type": "markdown",
   "metadata": {},
   "source": [
    "```{margin}\n",
    "**Notation**\n",
    "Use Greek letter $\\kappa$ to represent the value of wave number and latin letter $k$ for the index of wave number.\n",
    "```"
   ]
  },
  {
   "attachments": {},
   "cell_type": "markdown",
   "metadata": {},
   "source": [
    "(wavenumber_dft)=\n",
    "```{prf:proof} **Wave number of DFT**\n",
    "\n",
    "\n",
    "Define wave number as\n",
    "\n",
    "$$\\kappa(k) = \\frac{2\\pi}{L_x} k$$(eq:wave_number)\n",
    "\n",
    "and $ x = j\\Delta x$. We could thereby obtain that Eq.{eq}`eq:fft_discrete_forward` is the same to\n",
    "\n",
    "$$\n",
    "\\hat{f}(\\kappa) = \\int_0^{L_x} f(x) e^{-i\\kappa x} dx.\n",
    "$$\n",
    "\n",
    "Also, length of the domain is $L_x = N * \\Delta x$. Then, we have\n",
    "\n",
    "$$\n",
    "\\hat{f}(k) = \\sum_{j=0}^{N-1} f(x_j) e^{-2\\pi ikj/N}, \\quad 0\\le k\\le N-1.\n",
    "$$\n",
    "```"
   ]
  },
  {
   "cell_type": "code",
   "execution_count": 46,
   "metadata": {
    "tags": [
     "margin"
    ]
   },
   "outputs": [
    {
     "name": "stdout",
     "output_type": "stream",
     "text": [
      "sum is equal to 0.00\n",
      "sum is equal to -0.00\n",
      "sum is equal to 0.00\n"
     ]
    },
    {
     "name": "stderr",
     "output_type": "stream",
     "text": [
      "/var/folders/k8/qt94yf_n5xgbshl47l1m1drr0000gn/T/ipykernel_16304/3342481032.py:11: UserWarning: Matplotlib is currently using module://matplotlib_inline.backend_inline, which is a non-GUI backend, so cannot show the figure.\n",
      "  fig.show()\n"
     ]
    },
    {
     "data": {
      "image/png": "[encoded data removed]",
      "text/plain": [
       "<Figure size 432x288 with 3 Axes>"
      ]
     },
     "metadata": {},
     "output_type": "display_data"
    }
   ],
   "source": [
    "x = np.linspace(0, 2, 100+1)*np.pi\n",
    "f = lambda k, x: np.sin(k*x)\n",
    "\n",
    "fig, axes = plt.subplots(3, 1,)\n",
    "for k in range(3):\n",
    "    axes[k].tick_params(bottom=False, left=False, labelbottom=False, labelleft=False)\n",
    "    axes[k].plot(x, f(k, x), color='black')\n",
    "    axes[k].scatter(x[:-1:5], f(k, x[:-1:5]), marker='x', color='r')\n",
    "    axes[k].set_ylabel('k=%.1i' % k)\n",
    "    print('sum is equal to %.2f' %(np.sum(f(k, x[:-1:5]))))\n",
    "fig.show()\n",
    "\n"
   ]
  },
  {
   "attachments": {},
   "cell_type": "markdown",
   "metadata": {},
   "source": [
    "````{prf:definition} Scaled Coefficient\n",
    "Usually, we would obtain the scaled Fourier coefficient $\\hat{x}_k$ from the DFT instead of the Fourier coefficient $x_k$. For example, in FFTW, the inverse Fourier transform is not normalized, so that we don't need to worry about the scale of result from `r2c` (DFT) followed by `c2r` (IDFT) if we calculate the scaled Fourier coefficient when we do the DFT,\n",
    "\n",
    "$$\n",
    "\\begin{equation}\n",
    "\\hat{x}_k = \\sum_{j=0}^{N-1} \\frac{1}{N}X_j e^{-2\\pi ikj/N}, \\quad 0\\le k\\le N-1\n",
    "\\end{equation}\n",
    "$$\n",
    "\n",
    "```{prf:proof} **Scaled Coefficient**\n",
    "\n",
    "$$\n",
    "\\begin{aligned}\n",
    "f(x_j) &= \\sum_{k=0}^{N-1} \\hat{f}(\\kappa) e^{i\\kappa x_j},\\\\\n",
    "& = \\sum_{k=0}^{N-1} \\left(\\sum_{j'=0}^{N-1} \\frac{1}{N} f(x_{j'}) e^{-i\\kappa x_{j'}}\\right) e^{i\\kappa x_j},\\\\\n",
    "& = \\sum_{j'=0}^{N-1} \\frac{1}{N} f(x_j') \\underbrace{\\left[\\sum_{k=0}^{N-1} e^{ik\\frac{2\\pi}{N}(j-j')}\\right]}_{S_{jj'}},\\\\\n",
    "& = \\frac{1}{N} f(x_{j}) N = f(x_j),\n",
    "\\end{aligned}\n",
    "$$\n",
    "\n",
    "since $S_{jj'}$ equal to $N$ when $j=j'$ and $0$ otherwise. Numerical solution is given on the right.\n",
    "\n",
    "```\n",
    "\n",
    "````"
   ]
  },
  {
   "attachments": {},
   "cell_type": "markdown",
   "metadata": {},
   "source": [
    "In this way, we could obtain the Fourier coefficient. Usually, the order of wave number index $k$ in the FFT output (e.g Matlab, FFTW) is $[0, 1, 2, \\dots, N/2-1, N/2, -N/2+1, \\dots, -1]$."
   ]
  },
  {
   "attachments": {},
   "cell_type": "markdown",
   "metadata": {},
   "source": [
    "```{prf:definition} Nyquist Frequency\n",
    "The Nyquist frequency $f_N$ is the highest frequency that equipment of a given sample rate can reliably measure, one-half the given sample rate $f_s$. In our case, the spatial frequency $\\xi = \\frac{\\kappa}{2\\pi}$, so that the Nyquist frequency is $\\frac{1}{2L} k$ and corresponding wave number is $\\kappa(N) = \\frac{1}{2}\\kappa(\\frac{N}{2})$.\n",
    "\n",
    "[Further investigation about aliasing]\n",
    "```"
   ]
  },
  {
   "attachments": {},
   "cell_type": "markdown",
   "metadata": {},
   "source": [
    "The FFT coefficient of Nyquist frequency is\n",
    "\n",
    "$$\n",
    "\\begin{align}\n",
    "\\hat{f}(\\kappa(\\frac{N}{2})) &= \\sum_{j = 0}^{N-1} f(x_j) e^{\\ii \\kappa(\\frac{N}{2}) x_j}\\\\\n",
    "& = \\sum_{j = 0}^{N-1} f(x_j) e^{\\ii \\pi j}\\\\\n",
    "& = \\sum_{j = 0}^{N-1} f(x_j) =  \\hat{f}(0)\n",
    "\\end{align}\n",
    "$$\n",
    "\n",
    "So that the information on Nyquist frequency is repeated. (Maybe also related to Nyquist frequency is the highest frequency that we could represent in FFT) Usually, we set the coefficient of Nyquist frequency as 0."
   ]
  },
  {
   "attachments": {},
   "cell_type": "markdown",
   "metadata": {},
   "source": [
    "### Aliasing\n"
   ]
  },
  {
   "attachments": {},
   "cell_type": "markdown",
   "metadata": {},
   "source": [
    "### De-aliasing"
   ]
  },
  {
   "attachments": {},
   "cell_type": "markdown",
   "metadata": {},
   "source": [
    "### Modified Wavenumber\n",
    "[^modified_wavenumber_ref1]\n",
    "[^modified_wavenumber_ref2]\n",
    "\n",
    "[^modified_wavenumber_ref1]: [Compact Scheme](https://en.wikipedia.org/wiki/Compact_finite_difference)\n",
    "[^modified_wavenumber_ref2]: [Modified Wave Number](https://www.nas.nasa.gov/assets/pdf/ams/2018/introtocfd/Intro2CFD_Lecture2_Lecture3_Pulliam_Chap3_Modk.pdf)\n",
    "\n"
   ]
  },
  {
   "attachments": {},
   "cell_type": "markdown",
   "metadata": {},
   "source": [
    "### Fast Fourier Transform (FFT)\n",
    "The central idea of various FFT algorithms is that a DFT of a sequence of N points can be written in terms of two DFTs of length N/2. Thus if N is a power of two, this decomposition will lead to DFTs with of single points. More precisely, denoting $\\phi_N = e^{2\\pi i/N}$, we have\n",
    "$$\n",
    "e^{-2\\pi ikj/N} = (\\phi_N)^{kj}, \\quad (\\phi_N)^{2kj} = (\\phi_{N/2})^{kj}\n",
    "$$\n",
    "\n",
    "And\n",
    "\n",
    "$$\n",
    "\\begin{align}\n",
    "x_k \n",
    "=& \\sum_{j=0}^{N-1}X_j(\\phi_N)^{kj},\\\\\n",
    "=&  \\sum_{j=0, 2, \\dots}^{N-2} X_j(\\phi_N)^{kj} + \\sum_{j=1, 3, \\dots}^{N-1} X_j(\\phi_N)^{kj},\\\\\n",
    "=&  \\sum_{j=0}^{N/2-1} X_{2j}(\\phi_{N})^{2kj} + \\phi_{N} \\sum_{j=0}^{N/2-1} X_{2j+1}(\\phi_{N})^{2kj},\\\\\n",
    "=& x_1(k) + \\phi_{N}x_2(k),\n",
    "\\end{align}\n",
    "$$\n",
    "\n",
    "in which $x_1(k) = x_{2k}$ and $x_2(k)= x_{2k+1}$.\n"
   ]
  },
  {
   "attachments": {},
   "cell_type": "markdown",
   "metadata": {},
   "source": [
    "## 2-dimensional Discrete Fourier Tranform"
   ]
  },
  {
   "cell_type": "code",
   "execution_count": 5,
   "metadata": {},
   "outputs": [
    {
     "data": {
      "image/png": "[encoded data removed]",
      "text/plain": [
       "<Figure size 432x288 with 6 Axes>"
      ]
     },
     "metadata": {
      "needs_background": "light"
     },
     "output_type": "display_data"
    }
   ],
   "source": [
    "from scipy.fft import fftn, ifftn\n",
    "import matplotlib.pyplot as plt\n",
    "import matplotlib.cm as cm\n",
    "import numpy as np\n",
    "N = 30\n",
    "f, ((ax1, ax2, ax3), (ax4, ax5, ax6)) = plt.subplots(2, 3, sharex='col', sharey='row')\n",
    "xf = np.zeros((N,N))\n",
    "xf[0, 5] = 1\n",
    "xf[0, N-5] = 1\n",
    "Z = ifftn(xf)\n",
    "ax1.imshow(xf, cmap=cm.Reds)\n",
    "ax4.imshow(np.real(Z), cmap=cm.gray)\n",
    "xf = np.zeros((N, N))\n",
    "xf[5, 0] = 1\n",
    "xf[N-5, 0] = 1\n",
    "Z = ifftn(xf)\n",
    "ax2.imshow(xf, cmap=cm.Reds)\n",
    "ax5.imshow(np.real(Z), cmap=cm.gray)\n",
    "xf = np.zeros((N, N))\n",
    "xf[5, 10] = 1\n",
    "xf[N-5, N-10] = 1\n",
    "Z = ifftn(xf)\n",
    "ax3.imshow(xf, cmap=cm.Reds)\n",
    "ax6.imshow(np.real(Z), cmap=cm.gray)\n",
    "plt.show()"
   ]
  },
  {
   "attachments": {},
   "cell_type": "markdown",
   "metadata": {},
   "source": [
    "## "
   ]
  }
 ],
 "metadata": {
  "kernelspec": {
   "display_name": "base",
   "language": "python",
   "name": "python3"
  },
  "language_info": {
   "codemirror_mode": {
    "name": "ipython",
    "version": 3
   },
   "file_extension": ".py",
   "mimetype": "text/x-python",
   "name": "python",
   "nbconvert_exporter": "python",
   "pygments_lexer": "ipython3",
   "version": "3.8.8"
  },
  "orig_nbformat": 4
 },
 "nbformat": 4,
 "nbformat_minor": 2
}
